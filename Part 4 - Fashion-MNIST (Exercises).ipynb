{
 "cells": [
  {
   "cell_type": "markdown",
   "metadata": {},
   "source": [
    "# Classifying Fashion-MNIST\n",
    "\n",
    "Now it's your turn to build and train a neural network. You'll be using the [Fashion-MNIST dataset](https://github.com/zalandoresearch/fashion-mnist), a drop-in replacement for the MNIST dataset. MNIST is actually quite trivial with neural networks where you can easily achieve better than 97% accuracy. Fashion-MNIST is a set of 28x28 greyscale images of clothes. It's more complex than MNIST, so it's a better representation of the actual performance of your network, and a better representation of datasets you'll use in the real world.\n",
    "\n",
    "<img src='assets/fashion-mnist-sprite.png' width=500px>\n",
    "\n",
    "In this notebook, you'll build your own neural network. For the most part, you could just copy and paste the code from Part 3, but you wouldn't be learning. It's important for you to write the code yourself and get it to work. Feel free to consult the previous notebooks though as you work through this.\n",
    "\n",
    "First off, let's load the dataset through torchvision."
   ]
  },
  {
   "cell_type": "code",
   "execution_count": 1,
   "metadata": {},
   "outputs": [
    {
     "name": "stderr",
     "output_type": "stream",
     "text": [
      "\r",
      "0it [00:00, ?it/s]"
     ]
    },
    {
     "name": "stdout",
     "output_type": "stream",
     "text": [
      "Downloading http://fashion-mnist.s3-website.eu-central-1.amazonaws.com/train-images-idx3-ubyte.gz to /home/mrtechno/.pytorch/F_MNIST_data/FashionMNIST/raw/train-images-idx3-ubyte.gz\n"
     ]
    },
    {
     "name": "stderr",
     "output_type": "stream",
     "text": [
      " 99%|█████████▉| 26263552/26421880 [00:41<00:00, 1861424.15it/s]"
     ]
    },
    {
     "name": "stdout",
     "output_type": "stream",
     "text": [
      "Extracting /home/mrtechno/.pytorch/F_MNIST_data/FashionMNIST/raw/train-images-idx3-ubyte.gz\n"
     ]
    },
    {
     "name": "stderr",
     "output_type": "stream",
     "text": [
      "\n",
      "0it [00:00, ?it/s]\u001b[A"
     ]
    },
    {
     "name": "stdout",
     "output_type": "stream",
     "text": [
      "Downloading http://fashion-mnist.s3-website.eu-central-1.amazonaws.com/train-labels-idx1-ubyte.gz to /home/mrtechno/.pytorch/F_MNIST_data/FashionMNIST/raw/train-labels-idx1-ubyte.gz\n"
     ]
    },
    {
     "name": "stderr",
     "output_type": "stream",
     "text": [
      "\n",
      "  0%|          | 0/29515 [00:00<?, ?it/s]\u001b[A\n",
      " 56%|█████▌    | 16384/29515 [00:00<00:00, 81636.30it/s]\u001b[A\n",
      "32768it [00:00, 49338.92it/s]                           \u001b[A\n",
      "0it [00:00, ?it/s]\u001b[A"
     ]
    },
    {
     "name": "stdout",
     "output_type": "stream",
     "text": [
      "Extracting /home/mrtechno/.pytorch/F_MNIST_data/FashionMNIST/raw/train-labels-idx1-ubyte.gz\n",
      "Downloading http://fashion-mnist.s3-website.eu-central-1.amazonaws.com/t10k-images-idx3-ubyte.gz to /home/mrtechno/.pytorch/F_MNIST_data/FashionMNIST/raw/t10k-images-idx3-ubyte.gz\n"
     ]
    },
    {
     "name": "stderr",
     "output_type": "stream",
     "text": [
      "\n",
      "  0%|          | 0/4422102 [00:00<?, ?it/s]\u001b[A\n",
      "  0%|          | 16384/4422102 [00:00<01:07, 65702.80it/s]\u001b[A\n",
      "  1%|          | 49152/4422102 [00:01<00:54, 79961.42it/s]\u001b[A\n",
      "  1%|▏         | 57344/4422102 [00:01<01:17, 56498.49it/s]\u001b[A\n",
      "  1%|▏         | 65536/4422102 [00:01<01:10, 61649.24it/s]\u001b[A\n",
      "  2%|▏         | 90112/4422102 [00:01<00:58, 74413.00it/s]\u001b[A\n",
      "  4%|▎         | 163840/4422102 [00:01<00:43, 98864.47it/s]\u001b[A\n",
      "  5%|▍         | 212992/4422102 [00:01<00:34, 122960.86it/s]\u001b[A\n",
      "  6%|▌         | 270336/4422102 [00:02<00:27, 151652.98it/s]\u001b[A\n",
      "  7%|▋         | 327680/4422102 [00:02<00:22, 181202.03it/s]\u001b[A\n",
      "  9%|▉         | 393216/4422102 [00:02<00:18, 214971.10it/s]\u001b[A\n",
      " 10%|█         | 450560/4422102 [00:02<00:16, 241150.45it/s]\u001b[A\n",
      " 12%|█▏        | 516096/4422102 [00:02<00:14, 270692.26it/s]\u001b[A\n",
      " 13%|█▎        | 581632/4422102 [00:02<00:12, 295424.49it/s]\u001b[A\n",
      " 15%|█▍        | 655360/4422102 [00:03<00:12, 295946.29it/s]\u001b[A\n",
      " 16%|█▋        | 720896/4422102 [00:03<00:12, 303859.42it/s]\u001b[A\n",
      " 18%|█▊        | 786432/4422102 [00:03<00:11, 308421.18it/s]\u001b[A\n",
      " 19%|█▉        | 860160/4422102 [00:03<00:11, 322619.97it/s]\u001b[A\n",
      " 21%|██        | 933888/4422102 [00:03<00:10, 333008.78it/s]\u001b[A\n",
      " 23%|██▎       | 1007616/4422102 [00:04<00:10, 340615.72it/s]\u001b[A\n",
      " 24%|██▍       | 1081344/4422102 [00:04<00:09, 362082.69it/s]\u001b[A\n",
      " 26%|██▌       | 1155072/4422102 [00:04<00:09, 345239.65it/s]\u001b[A\n",
      " 28%|██▊       | 1228800/4422102 [00:04<00:09, 349891.28it/s]\u001b[A\n",
      " 29%|██▉       | 1302528/4422102 [00:05<00:08, 351052.11it/s]\u001b[A\n",
      " 31%|███       | 1376256/4422102 [00:05<00:08, 354149.05it/s]\u001b[A\n",
      " 33%|███▎      | 1449984/4422102 [00:05<00:08, 356499.86it/s]\u001b[A\n",
      " 34%|███▍      | 1515520/4422102 [00:05<00:08, 345653.88it/s]\u001b[A\n",
      " 36%|███▌      | 1589248/4422102 [00:05<00:08, 349784.39it/s]\u001b[A\n",
      " 38%|███▊      | 1662976/4422102 [00:06<00:07, 352804.15it/s]\u001b[A\n",
      " 39%|███▉      | 1736704/4422102 [00:06<00:07, 354948.22it/s]\u001b[A\n",
      " 41%|████      | 1810432/4422102 [00:06<00:07, 356394.63it/s]\u001b[A\n",
      " 43%|████▎     | 1884160/4422102 [00:06<00:07, 355904.54it/s]\u001b[A\n",
      " 44%|████▍     | 1957888/4422102 [00:06<00:06, 357106.47it/s]\u001b[A\n",
      " 46%|████▌     | 2039808/4422102 [00:07<00:10, 237449.35it/s]\u001b[A\n",
      " 48%|████▊     | 2113536/4422102 [00:07<00:08, 264941.80it/s]\u001b[A\n",
      " 50%|████▉     | 2195456/4422102 [00:07<00:07, 295307.51it/s]\u001b[A\n",
      " 51%|█████▏    | 2277376/4422102 [00:08<00:06, 320204.79it/s]\u001b[A\n",
      " 54%|█████▎    | 2367488/4422102 [00:08<00:05, 349006.95it/s]\u001b[A\n",
      " 56%|█████▌    | 2465792/4422102 [00:08<00:05, 380019.04it/s]\u001b[A\n",
      " 58%|█████▊    | 2555904/4422102 [00:08<00:04, 396353.21it/s]\u001b[A\n",
      " 60%|██████    | 2662400/4422102 [00:08<00:04, 425371.85it/s]\u001b[A\n",
      " 63%|██████▎   | 2768896/4422102 [00:09<00:03, 449964.67it/s]\u001b[A\n",
      " 65%|██████▌   | 2875392/4422102 [00:09<00:03, 468913.15it/s]\u001b[A\n",
      " 68%|██████▊   | 2998272/4422102 [00:09<00:02, 516867.57it/s]\u001b[A\n",
      " 71%|███████   | 3121152/4422102 [00:09<00:02, 517517.31it/s]\u001b[A\n",
      " 72%|███████▏  | 3178496/4422102 [00:10<00:04, 289262.97it/s]\u001b[A\n",
      " 73%|███████▎  | 3227648/4422102 [00:10<00:04, 272711.12it/s]\u001b[A\n",
      " 74%|███████▍  | 3268608/4422102 [00:10<00:04, 246381.47it/s]\u001b[A\n",
      " 75%|███████▍  | 3301376/4422102 [00:10<00:05, 212835.76it/s]\u001b[A\n",
      " 76%|███████▌  | 3350528/4422102 [00:10<00:04, 220355.14it/s]\u001b[A\n",
      " 77%|███████▋  | 3399680/4422102 [00:11<00:04, 224923.57it/s]\u001b[A\n",
      " 78%|███████▊  | 3448832/4422102 [00:11<00:04, 229377.35it/s]\u001b[A\n",
      " 79%|███████▉  | 3497984/4422102 [00:11<00:03, 232521.54it/s]\u001b[A\n",
      " 80%|████████  | 3547136/4422102 [00:11<00:03, 235136.47it/s]\u001b[A\n",
      " 82%|████████▏ | 3604480/4422102 [00:11<00:03, 246441.47it/s]\u001b[A\n",
      " 83%|████████▎ | 3653632/4422102 [00:12<00:03, 244495.84it/s]\u001b[A\n",
      " 84%|████████▎ | 3702784/4422102 [00:12<00:02, 243864.12it/s]\u001b[A\n",
      " 85%|████████▍ | 3751936/4422102 [00:12<00:02, 241713.73it/s]\u001b[A\n",
      " 86%|████████▌ | 3801088/4422102 [00:12<00:02, 240855.56it/s]\u001b[A\n",
      " 87%|████████▋ | 3850240/4422102 [00:12<00:02, 240616.82it/s]\u001b[A\n",
      " 88%|████████▊ | 3907584/4422102 [00:13<00:02, 250701.25it/s]\u001b[A\n",
      " 89%|████████▉ | 3956736/4422102 [00:13<00:01, 247478.10it/s]\u001b[A\n",
      " 91%|█████████ | 4014080/4422102 [00:13<00:01, 255920.24it/s]\u001b[A\n",
      " 92%|█████████▏| 4063232/4422102 [00:13<00:01, 250924.66it/s]\u001b[A\n",
      " 93%|█████████▎| 4120576/4422102 [00:14<00:01, 258742.38it/s]\u001b[A\n",
      " 94%|█████████▍| 4169728/4422102 [00:14<00:00, 252549.18it/s]\u001b[A\n",
      " 96%|█████████▌| 4227072/4422102 [00:14<00:00, 259822.55it/s]\u001b[A\n",
      " 97%|█████████▋| 4284416/4422102 [00:14<00:00, 235193.35it/s]\u001b[A\n",
      " 98%|█████████▊| 4341760/4422102 [00:14<00:00, 242013.81it/s]\u001b[A\n",
      " 99%|█████████▉| 4399104/4422102 [00:15<00:00, 226551.02it/s]\u001b[A\n",
      "\n",
      "0it [00:00, ?it/s]\u001b[A\u001b[A"
     ]
    },
    {
     "name": "stdout",
     "output_type": "stream",
     "text": [
      "Extracting /home/mrtechno/.pytorch/F_MNIST_data/FashionMNIST/raw/t10k-images-idx3-ubyte.gz\n",
      "Downloading http://fashion-mnist.s3-website.eu-central-1.amazonaws.com/t10k-labels-idx1-ubyte.gz to /home/mrtechno/.pytorch/F_MNIST_data/FashionMNIST/raw/t10k-labels-idx1-ubyte.gz\n"
     ]
    },
    {
     "name": "stderr",
     "output_type": "stream",
     "text": [
      "\n",
      "\n",
      "  0%|          | 0/5148 [00:00<?, ?it/s]\u001b[A\u001b[A\n",
      "\n",
      "8192it [00:00, 17692.52it/s]            \u001b[A\u001b[A"
     ]
    },
    {
     "name": "stdout",
     "output_type": "stream",
     "text": [
      "Extracting /home/mrtechno/.pytorch/F_MNIST_data/FashionMNIST/raw/t10k-labels-idx1-ubyte.gz\n",
      "Processing...\n",
      "Done!\n"
     ]
    }
   ],
   "source": [
    "import torch\n",
    "from torchvision import datasets, transforms\n",
    "import helper\n",
    "\n",
    "# Define a transform to normalize the data\n",
    "transform = transforms.Compose([transforms.ToTensor(),\n",
    "                                transforms.Normalize((0.5,), (0.5,))])\n",
    "# Download and load the training data\n",
    "trainset = datasets.FashionMNIST('~/.pytorch/F_MNIST_data/', download=True, train=True, transform=transform)\n",
    "trainloader = torch.utils.data.DataLoader(trainset, batch_size=64, shuffle=True)\n",
    "\n",
    "# Download and load the test data\n",
    "testset = datasets.FashionMNIST('~/.pytorch/F_MNIST_data/', download=True, train=False, transform=transform)\n",
    "testloader = torch.utils.data.DataLoader(testset, batch_size=64, shuffle=True)"
   ]
  },
  {
   "cell_type": "markdown",
   "metadata": {},
   "source": [
    "Here we can see one of the images."
   ]
  },
  {
   "cell_type": "code",
   "execution_count": 10,
   "metadata": {},
   "outputs": [
    {
     "data": {
      "text/plain": [
       "tensor([[-1., -1., -1.,  ..., -1., -1., -1.],\n",
       "        [-1., -1., -1.,  ..., -1., -1., -1.],\n",
       "        [-1., -1., -1.,  ..., -1., -1., -1.],\n",
       "        ...,\n",
       "        [-1., -1., -1.,  ..., -1., -1., -1.],\n",
       "        [-1., -1., -1.,  ..., -1., -1., -1.],\n",
       "        [-1., -1., -1.,  ..., -1., -1., -1.]])"
      ]
     },
     "execution_count": 10,
     "metadata": {},
     "output_type": "execute_result"
    },
    {
     "data": {
      "image/png": "[encoded data removed]",
      "text/plain": [
       "<Figure size 432x288 with 1 Axes>"
      ]
     },
     "metadata": {
      "needs_background": "light"
     },
     "output_type": "display_data"
    }
   ],
   "source": [
    "image, label = next(iter(trainloader))\n",
    "helper.imshow(image[0,:]);\n",
    "\n",
    "image.resize_(64,784)"
   ]
  },
  {
   "cell_type": "markdown",
   "metadata": {},
   "source": [
    "## Building the network\n",
    "\n",
    "Here you should define your network. As with MNIST, each image is 28x28 which is a total of 784 pixels, and there are 10 classes. You should include at least one hidden layer. We suggest you use ReLU activations for the layers and to return the logits or log-softmax from the forward pass. It's up to you how many layers you add and the size of those layers."
   ]
  },
  {
   "cell_type": "code",
   "execution_count": 11,
   "metadata": {},
   "outputs": [],
   "source": [
    "import torch.nn.functional as F\n",
    "from torch import nn,optim\n",
    "# TODO: Define your network architecture here\n",
    "\n",
    "model = nn.Sequential(nn.Linear(784,128),\n",
    "                    nn.ReLU(),\n",
    "                     nn.Linear(128,64),\n",
    "                     nn.ReLU(),\n",
    "                     nn.Linear(64,10),\n",
    "                     nn.LogSoftmax(dim=1))\n",
    "\n"
   ]
  },
  {
   "cell_type": "markdown",
   "metadata": {},
   "source": [
    "# Train the network\n",
    "\n",
    "Now you should create your network and train it. First you'll want to define [the criterion](http://pytorch.org/docs/master/nn.html#loss-functions) ( something like `nn.CrossEntropyLoss`) and [the optimizer](http://pytorch.org/docs/master/optim.html) (typically `optim.SGD` or `optim.Adam`).\n",
    "\n",
    "Then write the training code. Remember the training pass is a fairly straightforward process:\n",
    "\n",
    "* Make a forward pass through the network to get the logits \n",
    "* Use the logits to calculate the loss\n",
    "* Perform a backward pass through the network with `loss.backward()` to calculate the gradients\n",
    "* Take a step with the optimizer to update the weights\n",
    "\n",
    "By adjusting the hyperparameters (hidden units, learning rate, etc), you should be able to get the training loss below 0.4."
   ]
  },
  {
   "cell_type": "code",
   "execution_count": 16,
   "metadata": {},
   "outputs": [],
   "source": [
    "\n",
    "# TODO: Create the network, define the criterion and optimizer\n",
    "criterion = nn.CrossEntropyLoss()\n",
    "\n",
    "optimizer = optim.Adam(model.parameters(),lr=0.01)\n"
   ]
  },
  {
   "cell_type": "code",
   "execution_count": 17,
   "metadata": {},
   "outputs": [
    {
     "name": "stdout",
     "output_type": "stream",
     "text": [
      "Training loss: 0.5393167335722746\n",
      "Training loss: 0.44558784370419824\n",
      "Training loss: 0.42033109311927863\n",
      "Training loss: 0.4028659485328172\n",
      "Training loss: 0.39472767111779783\n",
      "Training loss: 0.38304884514924303\n",
      "Training loss: 0.37969074555551574\n"
     ]
    }
   ],
   "source": [
    "# TODO: Train the network here\n",
    "\n",
    "epochs = 7\n",
    "\n",
    "for epoch in range(epochs):\n",
    "    running_loss = 0\n",
    "    for image,label in trainloader:\n",
    "        \n",
    "        image = image.view(image.shape[0],-1)\n",
    "        \n",
    "        optimizer.zero_grad()\n",
    "        \n",
    "        log_op = model(image)\n",
    "        loss = criterion(log_op,label)\n",
    "        loss.backward()\n",
    "        optimizer.step()\n",
    "        \n",
    "        running_loss += loss.item()\n",
    "        \n",
    "    else:\n",
    "        print(f\"Training loss: {running_loss/len(trainloader)}\")\n"
   ]
  },
  {
   "cell_type": "code",
   "execution_count": 25,
   "metadata": {},
   "outputs": [
    {
     "data": {
      "image/png": "[encoded data removed]",
      "text/plain": [
       "<Figure size 432x648 with 2 Axes>"
      ]
     },
     "metadata": {
      "image/png": {
       "height": 206,
       "width": 423
      },
      "needs_background": "light"
     },
     "output_type": "display_data"
    }
   ],
   "source": [
    "%matplotlib inline\n",
    "%config InlineBackend.figure_format = 'retina'\n",
    "\n",
    "import helper\n",
    "\n",
    "# Test out your network!\n",
    "\n",
    "dataiter = iter(testloader)\n",
    "images, labels = dataiter.next()\n",
    "img = images[0]\n",
    "# Convert 2D image to 1D vector\n",
    "img = img.resize_(1, 784)\n",
    "\n",
    "# TODO: Calculate the class probabilities (softmax) for img\n",
    "ps = torch.exp(model(img))\n",
    "\n",
    "# Plot the image and probabilities\n",
    "helper.view_classify(img.resize_(1, 28, 28), ps, version='Fashion')"
   ]
  },
  {
   "cell_type": "code",
   "execution_count": null,
   "metadata": {},
   "outputs": [],
   "source": []
  },
  {
   "cell_type": "code",
   "execution_count": null,
   "metadata": {},
   "outputs": [],
   "source": []
  }
 ],
 "metadata": {
  "kernelspec": {
   "display_name": "Python 3",
   "language": "python",
   "name": "python3"
  },
  "language_info": {
   "codemirror_mode": {
    "name": "ipython",
    "version": 3
   },
   "file_extension": ".py",
   "mimetype": "text/x-python",
   "name": "python",
   "nbconvert_exporter": "python",
   "pygments_lexer": "ipython3",
   "version": "3.7.2"
  }
 },
 "nbformat": 4,
 "nbformat_minor": 2
}
